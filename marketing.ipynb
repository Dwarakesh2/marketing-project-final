{
  "nbformat": 4,
  "nbformat_minor": 0,
  "metadata": {
    "colab": {
      "provenance": [],
      "collapsed_sections": [],
      "authorship_tag": "ABX9TyNuj3rUzfREx2/PanvMkJDq",
      "include_colab_link": true
    },
    "kernelspec": {
      "name": "python3",
      "display_name": "Python 3"
    },
    "language_info": {
      "name": "python"
    }
  },
  "cells": [
    {
      "cell_type": "markdown",
      "metadata": {
        "id": "view-in-github",
        "colab_type": "text"
      },
      "source": [
        "<a href=\"https://colab.research.google.com/github/diwakarsachan/marketing-project-final/blob/main/marketing.ipynb\" target=\"_parent\"><img src=\"https://colab.research.google.com/assets/colab-badge.svg\" alt=\"Open In Colab\"/></a>"
      ]
    },
    {
      "cell_type": "code",
      "execution_count": null,
      "metadata": {
        "id": "DwqMdwcxOwex"
      },
      "outputs": [],
      "source": []
    },
    {
      "cell_type": "markdown",
      "source": [
        "# ML WorkFlow / Blueprint\n",
        "  ### Load data\n",
        "### EDA (Exploratory data analysis)\n",
        "* Graphing\n",
        "* Do we have outliers?\n",
        "* Do we have nulls / invalids ?\n",
        "* Do we have duplicates?\n",
        "* Correlation matrix\n",
        "### Cleanup\n",
        "* Fix null values (drop / replace)\n",
        "* De-dupe\n",
        "* Any other cleanup\n",
        "### Shape data for ML\n",
        "* Encode categorical data into numbers\n",
        "* Scale data if necessary\n",
        "* Feature selection\n",
        "* Figure out X,y\n",
        "* train/test split\n",
        "* Actually, do cross-validation\n",
        "### Train the algorithm\n",
        "### Evaluated the model\n",
        "* Scoring / metrics\n",
        "* Regression : r2, rmse (and more)\n",
        "* classification : accuracy, confusion matrix (and more)\n",
        "### Improved our model  (while keeping notes!)\n",
        "* Iterations\n",
        "* Added more features\n",
        "* Scaling \n",
        "### Deploy \n"
      ],
      "metadata": {
        "id": "KT23-6iGO0bd"
      }
    }
  ]
}